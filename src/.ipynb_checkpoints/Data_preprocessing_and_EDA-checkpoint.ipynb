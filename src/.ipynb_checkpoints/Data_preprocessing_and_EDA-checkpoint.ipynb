{
 "cells": [
  {
   "cell_type": "code",
   "execution_count": 3,
   "metadata": {},
   "outputs": [],
   "source": [
    "from Bio import SeqIO\n",
    "from Bio.Seq import Seq\n",
    "from Bio.SeqRecord import SeqRecord\n",
    "import pandas as pd\n",
    "import os\n",
    "import sys\n",
    "import numpy as np\n",
    "sys.path.append(r'C:/Users/Alexis/PycharmProjects/ChemBioInfTools/ChemInfTools/IO')\n",
    "sys.path.append(r'C:/Users/Alexis/PycharmProjects/ChemBioInfTools/BioInfTools/IO')\n",
    "sys.path.append(r'C:/Users/Alexis/PycharmProjects/ChemBioInfTools/BioInfTools/Descriptors')\n",
    "from IOseq import *\n",
    "from chemdesc import *"
   ]
  },
  {
   "cell_type": "code",
   "execution_count": 4,
   "metadata": {},
   "outputs": [],
   "source": [
    "def mkdir(path):\n",
    "    try:\n",
    "        os.mkdir(path)\n",
    "    except OSError:\n",
    "        print(\"Creation of the directory %s failed\" % path)\n",
    "    else:\n",
    "        print(\"Successfully created the directory %s \" % path)"
   ]
  },
  {
   "cell_type": "markdown",
   "metadata": {},
   "source": [
    "# Reading sequence data"
   ]
  },
  {
   "cell_type": "code",
   "execution_count": 6,
   "metadata": {},
   "outputs": [],
   "source": [
    "path2fasta = \"C:/Users/Alexis/PycharmProjects/HIV_DeepLearning/Fasta Files/\"\n",
    "fasta_files = os.listdir(path2fasta)"
   ]
  },
  {
   "cell_type": "code",
   "execution_count": 7,
   "metadata": {},
   "outputs": [
    {
     "data": {
      "text/plain": [
       "['abc.fasta',\n",
       " 'atv.fasta',\n",
       " 'azt.fasta',\n",
       " 'ddi.fasta',\n",
       " 'dft.fasta',\n",
       " 'drv.fasta',\n",
       " 'efv.fasta',\n",
       " 'etr.fasta',\n",
       " 'fpv.fasta',\n",
       " 'idv.fasta',\n",
       " 'lpv.fasta',\n",
       " 'nfv.fasta',\n",
       " 'nvp.fasta',\n",
       " 'rpv.fasta',\n",
       " 'sqv.fasta',\n",
       " 'tdf.fasta',\n",
       " 'tpv.fasta',\n",
       " 'ttc.fasta']"
      ]
     },
     "execution_count": 7,
     "metadata": {},
     "output_type": "execute_result"
    }
   ],
   "source": [
    "fasta_files"
   ]
  },
  {
   "cell_type": "code",
   "execution_count": 11,
   "metadata": {},
   "outputs": [
    {
     "data": {
      "text/plain": [
       "'_1'"
      ]
     },
     "execution_count": 11,
     "metadata": {},
     "output_type": "execute_result"
    }
   ],
   "source": [
    "'2997_1'[-2:]"
   ]
  },
  {
   "cell_type": "code",
   "execution_count": 44,
   "metadata": {},
   "outputs": [],
   "source": [
    "df_list = []\n",
    "for file in fasta_files:\n",
    "    with open(path2fasta + file, 'r') as f:\n",
    "        file_len = len(f.readlines())\n",
    "    df = pd.DataFrame(index=range(0, round(file_len/2)), columns=['drug', 'seq_id', 'sequence', 'seqlen', 'resistance'])\n",
    "    i = 0\n",
    "    for seq_record in SeqIO.parse(path2fasta + file, \"fasta\"):\n",
    "        df.loc[i, 'drug'] = file.replace('.fasta', '')\n",
    "        df.loc[i, 'seq_id'] = seq_record.id[:-2]\n",
    "        df.loc[i, 'sequence'] = str(seq_record.seq)\n",
    "        df.loc[i, 'seqlen'] = len(seq_record)\n",
    "        df.loc[i, 'resistance'] = seq_record.id[-1:]\n",
    "        i += 1\n",
    "    df_list.append(df)"
   ]
  },
  {
   "cell_type": "code",
   "execution_count": 45,
   "metadata": {},
   "outputs": [],
   "source": [
    "all_df = pd.concat(df_list)"
   ]
  },
  {
   "cell_type": "code",
   "execution_count": 46,
   "metadata": {},
   "outputs": [],
   "source": [
    "all_df.loc[all_df['seqlen']==240, 'enzyme'] = 'RT'\n",
    "all_df.loc[all_df['seqlen']==99, 'enzyme'] = 'PI'"
   ]
  },
  {
   "cell_type": "code",
   "execution_count": 47,
   "metadata": {},
   "outputs": [
    {
     "data": {
      "text/plain": [
       "RT    11064\n",
       "PI     9505\n",
       "Name: enzyme, dtype: int64"
      ]
     },
     "execution_count": 47,
     "metadata": {},
     "output_type": "execute_result"
    }
   ],
   "source": [
    "all_df.enzyme.value_counts()"
   ]
  },
  {
   "cell_type": "code",
   "execution_count": 48,
   "metadata": {},
   "outputs": [],
   "source": [
    "all_df.to_csv('C:/Users/Alexis/PycharmProjects/HIV_DeepLearning/data/all_sequences.csv', index=False)"
   ]
  },
  {
   "cell_type": "markdown",
   "metadata": {},
   "source": [
    "# Preprocessing datasets for protease and reverse transcriptase"
   ]
  },
  {
   "cell_type": "code",
   "execution_count": 49,
   "metadata": {},
   "outputs": [],
   "source": [
    "rt_df = all_df[all_df['enzyme']=='RT']\n",
    "pr_df = all_df[all_df['enzyme']=='PI']"
   ]
  },
  {
   "cell_type": "code",
   "execution_count": 56,
   "metadata": {},
   "outputs": [
    {
     "name": "stderr",
     "output_type": "stream",
     "text": [
      "C:\\Users\\Alexis\\Anaconda3\\lib\\site-packages\\ipykernel_launcher.py:1: SettingWithCopyWarning: \n",
      "A value is trying to be set on a copy of a slice from a DataFrame.\n",
      "Try using .loc[row_indexer,col_indexer] = value instead\n",
      "\n",
      "See the caveats in the documentation: https://pandas.pydata.org/pandas-docs/stable/user_guide/indexing.html#returning-a-view-versus-a-copy\n",
      "  \"\"\"Entry point for launching an IPython kernel.\n",
      "C:\\Users\\Alexis\\Anaconda3\\lib\\site-packages\\ipykernel_launcher.py:2: SettingWithCopyWarning: \n",
      "A value is trying to be set on a copy of a slice from a DataFrame.\n",
      "Try using .loc[row_indexer,col_indexer] = value instead\n",
      "\n",
      "See the caveats in the documentation: https://pandas.pydata.org/pandas-docs/stable/user_guide/indexing.html#returning-a-view-versus-a-copy\n",
      "  \n"
     ]
    }
   ],
   "source": [
    "rt_df['resistance'] = rt_df['resistance'].astype(int)\n",
    "pr_df['resistance'] = pr_df['resistance'].astype(int)"
   ]
  },
  {
   "cell_type": "code",
   "execution_count": 58,
   "metadata": {},
   "outputs": [],
   "source": [
    "rt_df_piv = rt_df.pivot_table(index='sequence', columns='drug', values='resistance')\n",
    "pr_df_piv = pr_df.pivot_table(index='sequence', columns='drug', values='resistance')"
   ]
  },
  {
   "cell_type": "code",
   "execution_count": 64,
   "metadata": {},
   "outputs": [],
   "source": [
    "rt_df_piv.reset_index(inplace=True)\n",
    "pr_df_piv.reset_index(inplace=True)"
   ]
  },
  {
   "cell_type": "markdown",
   "metadata": {},
   "source": [
    "## Removing ambigous sequence"
   ]
  },
  {
   "cell_type": "code",
   "execution_count": 76,
   "metadata": {},
   "outputs": [],
   "source": [
    "rt_df_piv = rt_df_piv[~rt_df_piv['sequence'].str.contains('\\.')]\n",
    "rt_df_piv = rt_df_piv[~rt_df_piv['sequence'].str.contains('\\#')]\n",
    "rt_df_piv = rt_df_piv[~rt_df_piv['sequence'].str.contains('\\~')]\n",
    "pr_df_piv = pr_df_piv[~pr_df_piv['sequence'].str.contains('\\.')]"
   ]
  },
  {
   "cell_type": "markdown",
   "metadata": {},
   "source": [
    "## Saving files"
   ]
  },
  {
   "cell_type": "code",
   "execution_count": 77,
   "metadata": {},
   "outputs": [],
   "source": [
    "rt_df_piv.to_csv('C:/Users/Alexis/PycharmProjects/HIV_DeepLearning/data/rt.csv', index=False)\n",
    "pr_df_piv.to_csv('C:/Users/Alexis/PycharmProjects/HIV_DeepLearning/data/pr.csv', index=False)\n",
    "rt_df_piv['sequence'].to_csv('C:/Users/Alexis/PycharmProjects/HIV_DeepLearning/data/rt.seq', index=False, header=False)\n",
    "pr_df_piv['sequence'].to_csv('C:/Users/Alexis/PycharmProjects/HIV_DeepLearning/data/pr.seq', index=False, header=False)"
   ]
  },
  {
   "cell_type": "markdown",
   "metadata": {},
   "source": [
    "# Preparing files fo GA"
   ]
  },
  {
   "cell_type": "markdown",
   "metadata": {},
   "source": [
    "## Protease"
   ]
  },
  {
   "cell_type": "code",
   "execution_count": 82,
   "metadata": {},
   "outputs": [],
   "source": [
    "svm_files = []\n",
    "path2svms = 'C:/Users/Alexis/PycharmProjects/HIV_DeepLearning/DATADIR_PR/'\n",
    "for filename in [file for file in os.listdir(path2svms) if file[-4:] == '.svm']:\n",
    "    svm_files.append(path2svms+filename)"
   ]
  },
  {
   "cell_type": "code",
   "execution_count": 85,
   "metadata": {},
   "outputs": [
    {
     "data": {
      "text/plain": [
       "['C:/Users/Alexis/PycharmProjects/HIV_DeepLearning/DATADIR_PR/PIO13S1.svm',\n",
       " 'C:/Users/Alexis/PycharmProjects/HIV_DeepLearning/DATADIR_PR/PIO13S1F.svm',\n",
       " 'C:/Users/Alexis/PycharmProjects/HIV_DeepLearning/DATADIR_PR/PIO23S1F.svm',\n",
       " 'C:/Users/Alexis/PycharmProjects/HIV_DeepLearning/DATADIR_PR/PIO33S1F.svm',\n",
       " 'C:/Users/Alexis/PycharmProjects/HIV_DeepLearning/DATADIR_PR/PIO33S3.svm',\n",
       " 'C:/Users/Alexis/PycharmProjects/HIV_DeepLearning/DATADIR_PR/PIO33S3F.svm',\n",
       " 'C:/Users/Alexis/PycharmProjects/HIV_DeepLearning/DATADIR_PR/PIO44S1.svm',\n",
       " 'C:/Users/Alexis/PycharmProjects/HIV_DeepLearning/DATADIR_PR/PIO44S1F.svm',\n",
       " 'C:/Users/Alexis/PycharmProjects/HIV_DeepLearning/DATADIR_PR/PIO55S1.svm',\n",
       " 'C:/Users/Alexis/PycharmProjects/HIV_DeepLearning/DATADIR_PR/PIO55S1F.svm']"
      ]
     },
     "execution_count": 85,
     "metadata": {},
     "output_type": "execute_result"
    }
   ],
   "source": [
    "svm_files"
   ]
  },
  {
   "cell_type": "code",
   "execution_count": 83,
   "metadata": {},
   "outputs": [
    {
     "data": {
      "text/plain": [
       "Index(['sequence', 'atv', 'drv', 'fpv', 'idv', 'lpv', 'nfv', 'sqv', 'tpv'], dtype='object', name='drug')"
      ]
     },
     "execution_count": 83,
     "metadata": {},
     "output_type": "execute_result"
    }
   ],
   "source": [
    "pr_df_piv.columns"
   ]
  },
  {
   "cell_type": "code",
   "execution_count": 88,
   "metadata": {},
   "outputs": [],
   "source": [
    "for col in ['atv', 'drv', 'fpv', 'idv', 'lpv', 'nfv', 'sqv', 'tpv']:#, 'Country', 'Year']:\n",
    "    mer_mask = pr_df_piv.loc[pr_df_piv.loc[~pr_df_piv[col].isna()].index][col]\n",
    "    #df.loc[df.loc[~df[col].isna()].index, col].to_csv(path+f'/{col}.class', index=False)\n",
    "    for svm in svm_files:\n",
    "        with open(svm, 'r') as f:\n",
    "            lines = f.readlines()\n",
    "            fin_path = path2svms + f\"{col}.{svm.replace(path2svms, '')}\"\n",
    "            fin_path = fin_path.replace('.svm', '.psvm')\n",
    "            with open(fin_path, 'w+') as psvm:\n",
    "                for index, line in enumerate(lines):\n",
    "                    if index in list(mer_mask.index):\n",
    "                        line = line.replace('?', str(int(mer_mask.loc[index])))\n",
    "                        psvm.write(line)"
   ]
  },
  {
   "cell_type": "code",
   "execution_count": 89,
   "metadata": {},
   "outputs": [],
   "source": [
    "for svm in svm_files:\n",
    "    with open(svm, 'r') as f:\n",
    "        lines = f.readlines()\n",
    "        fin_path = path2svms + f\"entropy.{svm.replace(path2svms, '')}\"\n",
    "        fin_path = fin_path.replace('.svm', '.psvm')\n",
    "        with open(fin_path, 'w+') as psvm:\n",
    "            for index, line in enumerate(lines):\n",
    "                line = line.replace('?', 'S')\n",
    "                psvm.write(line)"
   ]
  },
  {
   "cell_type": "code",
   "execution_count": 90,
   "metadata": {},
   "outputs": [],
   "source": [
    "for svm in svm_files:\n",
    "    with open(svm, 'r') as f:\n",
    "        lines = f.readlines()\n",
    "    with open(svm, 'w') as f:\n",
    "        for index, line in enumerate(lines):\n",
    "            line = line.replace('?', 'all')\n",
    "            f.write(line)"
   ]
  },
  {
   "cell_type": "markdown",
   "metadata": {},
   "source": [
    "## Reverse transcriptase"
   ]
  },
  {
   "cell_type": "code",
   "execution_count": 101,
   "metadata": {},
   "outputs": [],
   "source": [
    "svm_files = []\n",
    "path2svms = 'C:/Users/Alexis/PycharmProjects/HIV_DeepLearning/DATADIR_RT/'\n",
    "for filename in [file for file in os.listdir(path2svms) if file[-4:] == '.svm']:\n",
    "    svm_files.append(path2svms+filename)"
   ]
  },
  {
   "cell_type": "code",
   "execution_count": 102,
   "metadata": {},
   "outputs": [
    {
     "data": {
      "text/plain": [
       "Index(['index', 'sequence', 'abc', 'azt', 'ddi', 'dft', 'efv', 'etr', 'nvp',\n",
       "       'rpv', 'tdf', 'ttc'],\n",
       "      dtype='object', name='drug')"
      ]
     },
     "execution_count": 102,
     "metadata": {},
     "output_type": "execute_result"
    }
   ],
   "source": [
    "rt_df_piv.columns"
   ]
  },
  {
   "cell_type": "code",
   "execution_count": 103,
   "metadata": {},
   "outputs": [],
   "source": [
    "for col in ['abc', 'azt', 'ddi', 'dft', 'efv', 'etr', 'nvp', 'rpv', 'tdf', 'ttc']:#, 'Country', 'Year']:\n",
    "    mer_mask = rt_df_piv.loc[rt_df_piv.loc[~rt_df_piv[col].isna()].index][col]\n",
    "    #df.loc[df.loc[~df[col].isna()].index, col].to_csv(path+f'/{col}.class', index=False)\n",
    "    for svm in svm_files:\n",
    "        with open(svm, 'r') as f:\n",
    "            lines = f.readlines()\n",
    "            fin_path = path2svms + f\"{col}.{svm.replace(path2svms, '')}\"\n",
    "            fin_path = fin_path.replace('.svm', '.psvm')\n",
    "            with open(fin_path, 'w+') as psvm:\n",
    "                for index, line in enumerate(lines):\n",
    "                    if index in list(mer_mask.index):\n",
    "                        line = line.replace('?', str(int(mer_mask.loc[index])))\n",
    "                        psvm.write(line)"
   ]
  },
  {
   "cell_type": "code",
   "execution_count": 104,
   "metadata": {},
   "outputs": [],
   "source": [
    "for svm in svm_files:\n",
    "    with open(svm, 'r') as f:\n",
    "        lines = f.readlines()\n",
    "        fin_path = path2svms + f\"entropy.{svm.replace(path2svms, '')}\"\n",
    "        fin_path = fin_path.replace('.svm', '.psvm')\n",
    "        with open(fin_path, 'w+') as psvm:\n",
    "            for index, line in enumerate(lines):\n",
    "                line = line.replace('?', 'S')\n",
    "                psvm.write(line)"
   ]
  },
  {
   "cell_type": "code",
   "execution_count": 105,
   "metadata": {},
   "outputs": [],
   "source": [
    "for svm in svm_files:\n",
    "    with open(svm, 'r') as f:\n",
    "        lines = f.readlines()\n",
    "    with open(svm, 'w') as f:\n",
    "        for index, line in enumerate(lines):\n",
    "            line = line.replace('?', 'all')\n",
    "            f.write(line)"
   ]
  },
  {
   "cell_type": "markdown",
   "metadata": {},
   "source": [
    "# Exploratory data analysis"
   ]
  },
  {
   "cell_type": "code",
   "execution_count": 97,
   "metadata": {},
   "outputs": [
    {
     "name": "stdout",
     "output_type": "stream",
     "text": [
      "0.000000    508\n",
      "1.000000    423\n",
      "0.333333      1\n",
      "Name: atv, dtype: int64\n",
      "0.0    439\n",
      "1.0    129\n",
      "Name: drv, dtype: int64\n",
      "0.0    835\n",
      "1.0    522\n",
      "0.5      1\n",
      "Name: fpv, dtype: int64\n",
      "0.00    752\n",
      "1.00    643\n",
      "0.25      1\n",
      "0.50      1\n",
      "Name: idv, dtype: int64\n",
      "0.0    641\n",
      "1.0    561\n",
      "0.5      1\n",
      "Name: lpv, dtype: int64\n",
      "1.0    797\n",
      "0.0    638\n",
      "0.5      1\n",
      "Name: nfv, dtype: int64\n",
      "0.0    850\n",
      "1.0    547\n",
      "0.5      1\n",
      "Name: sqv, dtype: int64\n",
      "0.0    533\n",
      "1.0    123\n",
      "Name: tpv, dtype: int64\n"
     ]
    }
   ],
   "source": [
    "for col in ['atv', 'drv', 'fpv', 'idv', 'lpv', 'nfv', 'sqv', 'tpv']:\n",
    "    print(pr_df_piv[col].value_counts())"
   ]
  },
  {
   "cell_type": "code",
   "execution_count": 106,
   "metadata": {},
   "outputs": [
    {
     "name": "stdout",
     "output_type": "stream",
     "text": [
      "0.0    671\n",
      "1.0    573\n",
      "0.5      1\n",
      "Name: abc, dtype: int64\n",
      "0.0    719\n",
      "1.0    514\n",
      "0.5      1\n",
      "Name: azt, dtype: int64\n",
      "0.0    1181\n",
      "1.0      61\n",
      "Name: ddi, dtype: int64\n",
      "0.0    1088\n",
      "1.0     153\n",
      "0.5       1\n",
      "Name: dft, dtype: int64\n",
      "0.0    830\n",
      "1.0    584\n",
      "0.5      2\n",
      "Name: efv, dtype: int64\n",
      "0.000000    306\n",
      "1.000000    119\n",
      "0.166667      1\n",
      "0.800000      1\n",
      "0.500000      1\n",
      "0.250000      1\n",
      "Name: etr, dtype: int64\n",
      "0.0    744\n",
      "1.0    677\n",
      "0.5      1\n",
      "Name: nvp, dtype: int64\n",
      "0.0    118\n",
      "1.0     55\n",
      "0.5      1\n",
      "Name: rpv, dtype: int64\n",
      "0.0    905\n",
      "1.0     80\n",
      "Name: tdf, dtype: int64\n",
      "1.0    717\n",
      "0.0    506\n",
      "Name: ttc, dtype: int64\n"
     ]
    }
   ],
   "source": [
    "for col in ['abc', 'azt', 'ddi', 'dft', 'efv', 'etr', 'nvp', 'rpv', 'tdf', 'ttc']:\n",
    "    print(rt_df_piv[col].value_counts())"
   ]
  },
  {
   "cell_type": "code",
   "execution_count": null,
   "metadata": {},
   "outputs": [],
   "source": []
  }
 ],
 "metadata": {
  "kernelspec": {
   "display_name": "Python 3",
   "language": "python",
   "name": "python3"
  },
  "language_info": {
   "codemirror_mode": {
    "name": "ipython",
    "version": 3
   },
   "file_extension": ".py",
   "mimetype": "text/x-python",
   "name": "python",
   "nbconvert_exporter": "python",
   "pygments_lexer": "ipython3",
   "version": "3.7.7"
  }
 },
 "nbformat": 4,
 "nbformat_minor": 4
}
